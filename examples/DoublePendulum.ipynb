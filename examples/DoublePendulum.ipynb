{
 "cells": [
  {
   "cell_type": "markdown",
   "metadata": {},
   "source": [
    "# Inverted Pendulum Problem\n",
    "\n",
    "The state and control vectors $\\textbf{x}$ and $\\textbf{u}$ are defined as follows:\n",
    "\n",
    "$$\n",
    "\\begin{equation*}\n",
    "\\textbf{x} = \\begin{bmatrix}\n",
    "    \\theta & \\dot{\\theta}\n",
    "    \\end{bmatrix}\n",
    "\\end{equation*}\n",
    "$$\n",
    "\n",
    "$$\n",
    "\\begin{equation*}\n",
    "\\textbf{u} = \\begin{bmatrix}\n",
    "    \\tau\n",
    "    \\end{bmatrix}\n",
    "\\end{equation*}\n",
    "$$\n",
    "\n",
    "The goal is to swing the pendulum upright:\n",
    "\n",
    "$$\n",
    "\\begin{equation*}\n",
    "\\textbf{x}_{goal} = \\begin{bmatrix}\n",
    "    0 & 0\n",
    "    \\end{bmatrix}\n",
    "\\end{equation*}\n",
    "$$\n",
    "\n",
    "In order to deal with potential angle wrap-around issues (i.e. $2\\pi = 0$), we\n",
    "augment the state as follows and use that instead:\n",
    "\n",
    "$$\n",
    "\\begin{equation*}\n",
    "\\textbf{x}_{augmented} = \\begin{bmatrix}\n",
    "    \\sin\\theta & \\cos\\theta & \\dot{\\theta}\n",
    "    \\end{bmatrix}\n",
    "\\end{equation*}\n",
    "$$\n",
    "\n",
    "**Note**: The torque is constrained between $-1$ and $1$. This is achieved by\n",
    "instead fitting for unconstrained actions and then applying it to a squashing\n",
    "function $\\tanh(\\textbf{u})$. This is directly embedded into the dynamics model\n",
    "in order to be auto-differentiated. This also means that we need to apply this\n",
    "transformation manually to the output of our iLQR at the end."
   ]
  },
  {
   "cell_type": "code",
   "execution_count": 1,
   "metadata": {},
   "outputs": [],
   "source": [
    "%matplotlib inline"
   ]
  },
  {
   "cell_type": "code",
   "execution_count": 2,
   "metadata": {},
   "outputs": [],
   "source": [
    "from __future__ import print_function"
   ]
  },
  {
   "cell_type": "code",
   "execution_count": 3,
   "metadata": {},
   "outputs": [],
   "source": [
    "import numpy as np\n",
    "import matplotlib.pyplot as plt"
   ]
  },
  {
   "cell_type": "code",
   "execution_count": 4,
   "metadata": {},
   "outputs": [
    {
     "name": "stderr",
     "output_type": "stream",
     "text": [
      "/home/stone/miniconda3/envs/koopman/lib/python3.8/site-packages/theano/configdefaults.py:560: UserWarning: DeprecationWarning: there is no c++ compiler.This is deprecated and with Theano 0.11 a c++ compiler will be mandatory\n",
      "  warnings.warn(\"DeprecationWarning: there is no c++ compiler.\"\n",
      "WARNING (theano.configdefaults): g++ not detected ! Theano will be unable to execute optimized C-implementations (for both CPU and GPU) and will default to Python implementations. Performance will be severely degraded. To remove this warning, set Theano flags cxx to an empty string.\n",
      "WARNING (theano.tensor.blas): Using NumPy C-API based implementation for BLAS functions.\n"
     ]
    }
   ],
   "source": [
    "from ilqr import iLQR\n",
    "from ilqr.cost import QRCost\n",
    "from ilqr.dynamics import constrain\n",
    "# from ilqr.examples.DampingPendulum import DampingPendulumDynamics"
   ]
  },
  {
   "cell_type": "code",
   "execution_count": 5,
   "metadata": {},
   "outputs": [],
   "source": [
    "def on_iteration(iteration_count, xs, us, J_opt, accepted, converged):\n",
    "    J_hist.append(J_opt)\n",
    "    info = \"converged\" if converged else (\"accepted\" if accepted else \"failed\")\n",
    "    final_state = xs[-1]\n",
    "    print(\"iteration\", iteration_count, info, J_opt, final_state)"
   ]
  },
  {
   "cell_type": "code",
   "execution_count": 13,
   "metadata": {},
   "outputs": [],
   "source": [
    "from ilqr.dynamics import FiniteDiffDynamics\n",
    "from scipy.integrate import odeint\n",
    "import scipy.linalg\n",
    "state_size = 4  # [position, velocity]\n",
    "action_size = 2  # [force]\n",
    "\n",
    "\n",
    "def DoublePendulum(y,t, u):\n",
    "    th1,th2,dth1,dth2 = y\n",
    "    u = np.array(u).reshape(2,1)\n",
    "    f = np.zeros(4)\n",
    "    g = 9.8\n",
    "    l1 = 1.0\n",
    "    l2 = 1.0\n",
    "    m1 = 1.0\n",
    "    m2 = 1.0\n",
    "    c2 = np.cos(th2)\n",
    "    s2 = np.sin(th2)\n",
    "    M = np.zeros((2,2))\n",
    "    M[0,0] = m1*l1**2+m2*(l1**2+2*l1*l2*c2+l2**2)\n",
    "    M[0,1] = m2*(l1*l2*c2+l2**2)\n",
    "    M[1,0] = m2*(l1*l2*c2+l2**2)\n",
    "    M[1,1] = m2*l2**2\n",
    "    C = np.zeros((2,1))\n",
    "    C[0,0] = -m2*l1*l2*s2*(2*dth1*dth2+dth2**2)\n",
    "    C[1,0] = m2*l1*l2*dth1**2*s2\n",
    "    G = np.zeros((2,1))\n",
    "    G[0,0] = (m1+m2)*l1*g*np.cos(th1)+m2*g*l2*np.cos(th1+th2)\n",
    "    G[1,0] = m2*g*l2*np.cos(th1+th2)\n",
    "    Minv = scipy.linalg.pinv2(M)\n",
    "    ddth = np.dot(Minv,(u-C-G)).reshape(-1)\n",
    "    f[0] = dth1\n",
    "    f[1] = dth2\n",
    "    f[2] = ddth[0]\n",
    "    f[3] = ddth[1]\n",
    "    return f\n",
    "\n",
    "def f(x, u, i):\n",
    "    \"\"\"Dynamics model function.\n",
    "\n",
    "    Args:\n",
    "        x: State vector [state_size].\n",
    "        u: Control vector [action_size].\n",
    "        i: Current time step.\n",
    "\n",
    "    Returns:\n",
    "        Next state vector [state_size].\n",
    "    \"\"\"\n",
    "    dt = 0.01\n",
    "    sn = odeint(DoublePendulum, x, [0, dt], args=(u,))\n",
    "\n",
    "\n",
    "    return sn[-1,:]\n",
    "\n",
    "# NOTE: Unlike with AutoDiffDynamics, this is instantaneous, but will not be\n",
    "# as accurate.\n",
    "dynamics = FiniteDiffDynamics(f, state_size, action_size)"
   ]
  },
  {
   "cell_type": "code",
   "execution_count": 14,
   "metadata": {},
   "outputs": [],
   "source": [
    "# Note that the augmented state is not all 0.\n",
    "x_goal = np.array([1.2, -0.8,0.0,0.0])\n",
    "Q = np.eye(dynamics.state_size)\n",
    "Q[:2,:2] = 5*np.eye(2)\n",
    "Q[2:4,2:4] = 0.01*np.eye(2)\n",
    "R = np.eye(2)\n",
    "Q_terminal = Q.copy()\n",
    "# R = 0.01*np.eye(1)\n",
    "cost = QRCost(Q, R, Q_terminal=Q_terminal, x_goal=x_goal)"
   ]
  },
  {
   "cell_type": "code",
   "execution_count": 15,
   "metadata": {},
   "outputs": [],
   "source": [
    "N = 200\n",
    "x0 = np.array([0.,0.,0.,0.])\n",
    "us_init = np.random.uniform(-1, 1, (N, dynamics.action_size))\n",
    "ilqr = iLQR(dynamics, cost, N)"
   ]
  },
  {
   "cell_type": "code",
   "execution_count": 16,
   "metadata": {},
   "outputs": [
    {
     "name": "stderr",
     "output_type": "stream",
     "text": [
      "/tmp/ipykernel_20368/4048400655.py:30: DeprecationWarning: scipy.linalg.pinv2 is deprecated since SciPy 1.7.0, use scipy.linalg.pinv instead\n",
      "  Minv = scipy.linalg.pinv2(M)\n"
     ]
    },
    {
     "name": "stdout",
     "output_type": "stream",
     "text": [
      "iteration 0 accepted 10011.194663472712 [-1.65639298 -1.63575033  2.67166148  1.695972  ]\n",
      "iteration 1 accepted 9740.569737389236 [-1.45742735 -1.83491305  2.74076935  1.8256572 ]\n",
      "iteration 2 accepted 9725.106309863288 [-1.53238488 -1.76114719  2.65959591  1.83592644]\n",
      "iteration 3 accepted 9715.522555738795 [-1.50936885 -1.77218685  2.65659366  1.84427009]\n",
      "iteration 4 accepted 9715.023479616997 [-1.52023997 -1.77597568  2.66885431  1.8191194 ]\n",
      "iteration 5 accepted 9714.366529508698 [-1.52138711 -1.76330256  2.64616151  1.84069035]\n",
      "iteration 6 accepted 9714.34342224532 [-1.52081692 -1.77142875  2.65966693  1.82509299]\n",
      "iteration 7 accepted 9714.27170192178 [-1.52385275 -1.7672237   2.65277178  1.82754607]\n",
      "iteration 8 accepted 9714.207173953944 [-1.52501656 -1.76613242  2.65090354  1.8257906 ]\n",
      "iteration 9 accepted 9714.149857921288 [-1.52609627 -1.7654284   2.64986911  1.82556016]\n",
      "iteration 10 converged 9714.147450160546 [-1.52617821 -1.76528065  2.64939081  1.82558056]\n"
     ]
    }
   ],
   "source": [
    "J_hist = []\n",
    "xs, us = ilqr.fit(x0, us_init, n_iterations=20, on_iteration=on_iteration)"
   ]
  },
  {
   "cell_type": "code",
   "execution_count": 63,
   "metadata": {},
   "outputs": [
    {
     "name": "stdout",
     "output_type": "stream",
     "text": [
      "606.7727146011857\n"
     ]
    }
   ],
   "source": [
    "def Cost(observations,u_list,Q,R,x_ref):\n",
    "    steps = observations.shape[1]\n",
    "    loss = 0\n",
    "    for s in range(steps):\n",
    "        if s!=steps-1:\n",
    "            ucost = np.dot(np.dot(u_list[s].T,R),u_list[s])\n",
    "            # print(ucost)\n",
    "            loss += ucost\n",
    "        xcost = np.dot(np.dot((observations[:,s]-x_ref).T,Q),(observations[:,s]-x_ref))\n",
    "        # print(xcost)\n",
    "        loss += xcost\n",
    "    return loss\n",
    "loss = Cost(xs.T,us,Q,R,x_goal)\n",
    "print(loss)"
   ]
  },
  {
   "cell_type": "code",
   "execution_count": 56,
   "metadata": {},
   "outputs": [
    {
     "ename": "IndexError",
     "evalue": "invalid index to scalar variable.",
     "output_type": "error",
     "traceback": [
      "\u001b[0;31m---------------------------------------------------------------------------\u001b[0m",
      "\u001b[0;31mIndexError\u001b[0m                                Traceback (most recent call last)",
      "\u001b[1;32m/mnt/d/Github/ilqr/examples/DampingPendulum.ipynb Cell 12'\u001b[0m in \u001b[0;36m<cell line: 1>\u001b[0;34m()\u001b[0m\n\u001b[0;32m----> <a href='vscode-notebook-cell://wsl%2Bubuntu/mnt/d/Github/ilqr/examples/DampingPendulum.ipynb#ch0000019vscode-remote?line=0'>1</a>\u001b[0m loss \u001b[39m=\u001b[39m Cost(xs\u001b[39m.\u001b[39;49mreshape(\u001b[39m-\u001b[39;49m\u001b[39m1\u001b[39;49m,\u001b[39m2\u001b[39;49m),us\u001b[39m.\u001b[39;49mreshape(\u001b[39m-\u001b[39;49m\u001b[39m1\u001b[39;49m,\u001b[39m1\u001b[39;49m),Q,R,x_goal)\n\u001b[1;32m      <a href='vscode-notebook-cell://wsl%2Bubuntu/mnt/d/Github/ilqr/examples/DampingPendulum.ipynb#ch0000019vscode-remote?line=1'>2</a>\u001b[0m \u001b[39mprint\u001b[39m(loss)\n",
      "\u001b[1;32m/mnt/d/Github/ilqr/examples/DampingPendulum.ipynb Cell 11'\u001b[0m in \u001b[0;36mCost\u001b[0;34m(observations, u_list, Q, R, x_ref)\u001b[0m\n\u001b[1;32m      <a href='vscode-notebook-cell://wsl%2Bubuntu/mnt/d/Github/ilqr/examples/DampingPendulum.ipynb#ch0000018vscode-remote?line=4'>5</a>\u001b[0m \u001b[39mif\u001b[39;00m s\u001b[39m!=\u001b[39msteps\u001b[39m-\u001b[39m\u001b[39m1\u001b[39m:\n\u001b[1;32m      <a href='vscode-notebook-cell://wsl%2Bubuntu/mnt/d/Github/ilqr/examples/DampingPendulum.ipynb#ch0000018vscode-remote?line=5'>6</a>\u001b[0m     ucost \u001b[39m=\u001b[39m np\u001b[39m.\u001b[39mdot(np\u001b[39m.\u001b[39mdot(u_list[s]\u001b[39m.\u001b[39mT,R),u_list[s])\n\u001b[0;32m----> <a href='vscode-notebook-cell://wsl%2Bubuntu/mnt/d/Github/ilqr/examples/DampingPendulum.ipynb#ch0000018vscode-remote?line=6'>7</a>\u001b[0m     loss \u001b[39m+\u001b[39m\u001b[39m=\u001b[39m ucost[\u001b[39m0\u001b[39;49m,\u001b[39m0\u001b[39;49m]\n\u001b[1;32m      <a href='vscode-notebook-cell://wsl%2Bubuntu/mnt/d/Github/ilqr/examples/DampingPendulum.ipynb#ch0000018vscode-remote?line=7'>8</a>\u001b[0m xcost \u001b[39m=\u001b[39m np\u001b[39m.\u001b[39mdot(np\u001b[39m.\u001b[39mdot((observations[:,s]\u001b[39m-\u001b[39mx_ref)\u001b[39m.\u001b[39mT,Q),(observations[:,s]\u001b[39m-\u001b[39mx_ref))\n\u001b[1;32m      <a href='vscode-notebook-cell://wsl%2Bubuntu/mnt/d/Github/ilqr/examples/DampingPendulum.ipynb#ch0000018vscode-remote?line=8'>9</a>\u001b[0m loss \u001b[39m+\u001b[39m\u001b[39m=\u001b[39m xcost[\u001b[39m0\u001b[39m,\u001b[39m0\u001b[39m]\n",
      "\u001b[0;31mIndexError\u001b[0m: invalid index to scalar variable."
     ]
    }
   ],
   "source": [
    "loss = Cost(xs,us,Q,R,x_goal)\n",
    "print(loss)"
   ]
  },
  {
   "cell_type": "code",
   "execution_count": 50,
   "metadata": {},
   "outputs": [],
   "source": [
    "t = np.arange(N) * 0.02\n",
    "theta = np.unwrap(xs[:, 0])  # Makes for smoother plots.\n",
    "theta_dot = xs[:, 1]"
   ]
  },
  {
   "cell_type": "code",
   "execution_count": 51,
   "metadata": {},
   "outputs": [
    {
     "data": {
      "image/png": "[encoded data removed]",
      "text/plain": [
       "<Figure size 432x288 with 1 Axes>"
      ]
     },
     "metadata": {
      "needs_background": "light"
     },
     "output_type": "display_data"
    }
   ],
   "source": [
    "_ = plt.plot(theta, theta_dot)\n",
    "_ = plt.xlabel(\"theta (rad)\")\n",
    "_ = plt.ylabel(\"theta_dot (rad/s)\")\n",
    "_ = plt.title(\"Phase Plot\")"
   ]
  },
  {
   "cell_type": "code",
   "execution_count": 52,
   "metadata": {},
   "outputs": [
    {
     "data": {
      "image/png": "[encoded data removed]",
      "text/plain": [
       "<Figure size 432x288 with 1 Axes>"
      ]
     },
     "metadata": {
      "needs_background": "light"
     },
     "output_type": "display_data"
    }
   ],
   "source": [
    "_ = plt.plot(t, theta[1:])\n",
    "_ = plt.xlabel(\"theta (rad)\")\n",
    "_ = plt.ylabel(\"theta_dot (rad/s)\")\n",
    "_ = plt.title(\"Phase Plot\")"
   ]
  },
  {
   "cell_type": "code",
   "execution_count": 45,
   "metadata": {},
   "outputs": [
    {
     "data": {
      "image/png": "[encoded data removed]",
      "text/plain": [
       "<Figure size 432x288 with 1 Axes>"
      ]
     },
     "metadata": {
      "needs_background": "light"
     },
     "output_type": "display_data"
    }
   ],
   "source": [
    "_ = plt.plot(t, us)\n",
    "_ = plt.xlabel(\"time (s)\")\n",
    "_ = plt.ylabel(\"Force (N)\")\n",
    "_ = plt.title(\"Action path\")"
   ]
  },
  {
   "cell_type": "code",
   "execution_count": 14,
   "metadata": {
    "scrolled": true
   },
   "outputs": [
    {
     "data": {
      "image/png": "[encoded data removed]",
      "text/plain": [
       "<Figure size 432x288 with 1 Axes>"
      ]
     },
     "metadata": {
      "needs_background": "light"
     },
     "output_type": "display_data"
    }
   ],
   "source": [
    "_ = plt.plot(J_hist)\n",
    "_ = plt.xlabel(\"Iteration\")\n",
    "_ = plt.ylabel(\"Total cost\")\n",
    "_ = plt.title(\"Total cost-to-go\")"
   ]
  }
 ],
 "metadata": {
  "kernelspec": {
   "display_name": "Python 3",
   "language": "python",
   "name": "python3"
  },
  "language_info": {
   "codemirror_mode": {
    "name": "ipython",
    "version": 3
   },
   "file_extension": ".py",
   "mimetype": "text/x-python",
   "name": "python",
   "nbconvert_exporter": "python",
   "pygments_lexer": "ipython3",
   "version": "3.8.12"
  }
 },
 "nbformat": 4,
 "nbformat_minor": 2
}

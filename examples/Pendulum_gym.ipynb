{
 "cells": [
  {
   "cell_type": "markdown",
   "metadata": {},
   "source": [
    "# Inverted Pendulum Problem\n",
    "\n",
    "The state and control vectors $\\textbf{x}$ and $\\textbf{u}$ are defined as follows:\n",
    "\n",
    "$$\n",
    "\\begin{equation*}\n",
    "\\textbf{x} = \\begin{bmatrix}\n",
    "    \\theta & \\dot{\\theta}\n",
    "    \\end{bmatrix}\n",
    "\\end{equation*}\n",
    "$$\n",
    "\n",
    "$$\n",
    "\\begin{equation*}\n",
    "\\textbf{u} = \\begin{bmatrix}\n",
    "    \\tau\n",
    "    \\end{bmatrix}\n",
    "\\end{equation*}\n",
    "$$\n",
    "\n",
    "The goal is to swing the pendulum upright:\n",
    "\n",
    "$$\n",
    "\\begin{equation*}\n",
    "\\textbf{x}_{goal} = \\begin{bmatrix}\n",
    "    0 & 0\n",
    "    \\end{bmatrix}\n",
    "\\end{equation*}\n",
    "$$\n",
    "\n",
    "In order to deal with potential angle wrap-around issues (i.e. $2\\pi = 0$), we\n",
    "augment the state as follows and use that instead:\n",
    "\n",
    "$$\n",
    "\\begin{equation*}\n",
    "\\textbf{x}_{augmented} = \\begin{bmatrix}\n",
    "    \\sin\\theta & \\cos\\theta & \\dot{\\theta}\n",
    "    \\end{bmatrix}\n",
    "\\end{equation*}\n",
    "$$\n",
    "\n",
    "**Note**: The torque is constrained between $-1$ and $1$. This is achieved by\n",
    "instead fitting for unconstrained actions and then applying it to a squashing\n",
    "function $\\tanh(\\textbf{u})$. This is directly embedded into the dynamics model\n",
    "in order to be auto-differentiated. This also means that we need to apply this\n",
    "transformation manually to the output of our iLQR at the end."
   ]
  },
  {
   "cell_type": "code",
   "execution_count": 1,
   "metadata": {},
   "outputs": [],
   "source": [
    "%matplotlib inline"
   ]
  },
  {
   "cell_type": "code",
   "execution_count": 2,
   "metadata": {},
   "outputs": [],
   "source": [
    "from __future__ import print_function"
   ]
  },
  {
   "cell_type": "code",
   "execution_count": 3,
   "metadata": {},
   "outputs": [],
   "source": [
    "import numpy as np\n",
    "import matplotlib.pyplot as plt"
   ]
  },
  {
   "cell_type": "code",
   "execution_count": 4,
   "metadata": {},
   "outputs": [
    {
     "name": "stderr",
     "output_type": "stream",
     "text": [
      "/home/stone/miniconda3/envs/koopman/lib/python3.8/site-packages/theano/configdefaults.py:560: UserWarning: DeprecationWarning: there is no c++ compiler.This is deprecated and with Theano 0.11 a c++ compiler will be mandatory\n",
      "  warnings.warn(\"DeprecationWarning: there is no c++ compiler.\"\n",
      "WARNING (theano.configdefaults): g++ not detected ! Theano will be unable to execute optimized C-implementations (for both CPU and GPU) and will default to Python implementations. Performance will be severely degraded. To remove this warning, set Theano flags cxx to an empty string.\n",
      "WARNING (theano.tensor.blas): Using NumPy C-API based implementation for BLAS functions.\n"
     ]
    }
   ],
   "source": [
    "from ilqr import iLQR\n",
    "from ilqr.cost import QRCost\n",
    "from ilqr.dynamics import constrain\n",
    "# from ilqr.examples.DampingPendulum import DampingPendulumDynamics"
   ]
  },
  {
   "cell_type": "code",
   "execution_count": 5,
   "metadata": {},
   "outputs": [],
   "source": [
    "def on_iteration(iteration_count, xs, us, J_opt, accepted, converged):\n",
    "    J_hist.append(J_opt)\n",
    "    info = \"converged\" if converged else (\"accepted\" if accepted else \"failed\")\n",
    "    final_state = xs[-1]\n",
    "    print(\"iteration\", iteration_count, info, J_opt, final_state)"
   ]
  },
  {
   "cell_type": "code",
   "execution_count": 10,
   "metadata": {},
   "outputs": [],
   "source": [
    "from ilqr.dynamics import FiniteDiffDynamics\n",
    "from scipy.integrate import odeint\n",
    "state_size = 2  # [position, velocity]\n",
    "action_size = 1  # [force]\n",
    "\n",
    "\n",
    "def f(x, u, i):\n",
    "    \"\"\"Dynamics model function.\n",
    "\n",
    "    Args:\n",
    "        x: State vector [state_size].\n",
    "        u: Control vector [action_size].\n",
    "        i: Current time step.\n",
    "\n",
    "    Returns:\n",
    "        Next state vector [state_size].\n",
    "    \"\"\"\n",
    "    g = 10.0\n",
    "    m = 1.0\n",
    "    l = 1.0\n",
    "    dt = 0.02\n",
    "    th, thdot = x\n",
    "    newthdot = thdot + (3 * g / (2 * l) * np.sin(th) + 3.0 / (m * l ** 2) * u) * dt\n",
    "    newth = th + newthdot * dt\n",
    "\n",
    "    return np.array([newth, newthdot]).reshape(-1)\n",
    "\n",
    "# NOTE: Unlike with AutoDiffDynamics, this is instantaneous, but will not be\n",
    "# as accurate.\n",
    "dynamics = FiniteDiffDynamics(f, state_size, action_size)"
   ]
  },
  {
   "cell_type": "code",
   "execution_count": 11,
   "metadata": {},
   "outputs": [],
   "source": [
    "# Note that the augmented state is not all 0.\n",
    "x_goal = np.array([0.0, 0.0])\n",
    "Q = np.eye(dynamics.state_size)\n",
    "Q[0, 0] = 5.0\n",
    "Q[1, 1] = 0.01\n",
    "Q_terminal = Q.copy()\n",
    "R = 0.01*np.eye(1)\n",
    "cost = QRCost(Q, R, Q_terminal=Q_terminal, x_goal=x_goal)"
   ]
  },
  {
   "cell_type": "code",
   "execution_count": 12,
   "metadata": {},
   "outputs": [],
   "source": [
    "N = 100\n",
    "x0 = np.array([-3.0, 6.0])\n",
    "us_init = np.random.uniform(-1, 1, (N, dynamics.action_size))\n",
    "ilqr = iLQR(dynamics, cost, N)"
   ]
  },
  {
   "cell_type": "code",
   "execution_count": 13,
   "metadata": {},
   "outputs": [
    {
     "name": "stdout",
     "output_type": "stream",
     "text": [
      "iteration 0 accepted 400.6337544266534 [0.18238397 3.75639465]\n",
      "iteration 1 accepted 302.1171667984662 [0.14233815 1.51241664]\n",
      "iteration 2 accepted 301.1166549559902 [0.01716242 0.20363816]\n",
      "iteration 3 accepted 301.10142496385123 [0.00034934 0.0039305 ]\n",
      "iteration 4 converged 301.10141928215825 [ 1.21500151e-05 -4.39859091e-06]\n"
     ]
    }
   ],
   "source": [
    "J_hist = []\n",
    "xs, us = ilqr.fit(x0, us_init, n_iterations=20, on_iteration=on_iteration)"
   ]
  },
  {
   "cell_type": "code",
   "execution_count": 14,
   "metadata": {},
   "outputs": [],
   "source": [
    "t = np.arange(N) * 0.02\n",
    "theta = np.unwrap(xs[:, 0])  # Makes for smoother plots.\n",
    "theta_dot = xs[:, 1]"
   ]
  },
  {
   "cell_type": "code",
   "execution_count": 15,
   "metadata": {},
   "outputs": [
    {
     "data": {
      "image/png": "[encoded data removed]",
      "text/plain": [
       "<Figure size 432x288 with 1 Axes>"
      ]
     },
     "metadata": {
      "needs_background": "light"
     },
     "output_type": "display_data"
    }
   ],
   "source": [
    "_ = plt.plot(theta, theta_dot)\n",
    "_ = plt.xlabel(\"theta (rad)\")\n",
    "_ = plt.ylabel(\"theta_dot (rad/s)\")\n",
    "_ = plt.title(\"Phase Plot\")"
   ]
  },
  {
   "cell_type": "code",
   "execution_count": 16,
   "metadata": {},
   "outputs": [
    {
     "data": {
      "image/png": "[encoded data removed]",
      "text/plain": [
       "<Figure size 432x288 with 1 Axes>"
      ]
     },
     "metadata": {
      "needs_background": "light"
     },
     "output_type": "display_data"
    }
   ],
   "source": [
    "_ = plt.plot(t, theta[1:])\n",
    "_ = plt.xlabel(\"theta (rad)\")\n",
    "_ = plt.ylabel(\"theta_dot (rad/s)\")\n",
    "_ = plt.title(\"Phase Plot\")"
   ]
  },
  {
   "cell_type": "code",
   "execution_count": 45,
   "metadata": {},
   "outputs": [
    {
     "data": {
      "image/png": "[encoded data removed]",
      "text/plain": [
       "<Figure size 432x288 with 1 Axes>"
      ]
     },
     "metadata": {
      "needs_background": "light"
     },
     "output_type": "display_data"
    }
   ],
   "source": [
    "_ = plt.plot(t, us)\n",
    "_ = plt.xlabel(\"time (s)\")\n",
    "_ = plt.ylabel(\"Force (N)\")\n",
    "_ = plt.title(\"Action path\")"
   ]
  },
  {
   "cell_type": "code",
   "execution_count": 14,
   "metadata": {
    "scrolled": true
   },
   "outputs": [
    {
     "data": {
      "image/png": "[encoded data removed]",
      "text/plain": [
       "<Figure size 432x288 with 1 Axes>"
      ]
     },
     "metadata": {
      "needs_background": "light"
     },
     "output_type": "display_data"
    }
   ],
   "source": [
    "_ = plt.plot(J_hist)\n",
    "_ = plt.xlabel(\"Iteration\")\n",
    "_ = plt.ylabel(\"Total cost\")\n",
    "_ = plt.title(\"Total cost-to-go\")"
   ]
  }
 ],
 "metadata": {
  "kernelspec": {
   "display_name": "Python 3",
   "language": "python",
   "name": "python3"
  },
  "language_info": {
   "codemirror_mode": {
    "name": "ipython",
    "version": 3
   },
   "file_extension": ".py",
   "mimetype": "text/x-python",
   "name": "python",
   "nbconvert_exporter": "python",
   "pygments_lexer": "ipython3",
   "version": "3.8.12"
  }
 },
 "nbformat": 4,
 "nbformat_minor": 2
}
